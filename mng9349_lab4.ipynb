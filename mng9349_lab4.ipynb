{
  "nbformat": 4,
  "nbformat_minor": 0,
  "metadata": {
    "colab": {
      "provenance": [],
      "machine_shape": "hm"
    },
    "kernelspec": {
      "name": "python3",
      "display_name": "Python 3"
    },
    "language_info": {
      "name": "python"
    }
  },
  "cells": [
    {
      "cell_type": "code",
      "execution_count": 3,
      "metadata": {
        "id": "Olh-PkgyqQ2h"
      },
      "outputs": [],
      "source": [
        "import matplotlib.pyplot as plt\n",
        "import pandas as pd\n",
        "import numpy as np\n",
        "import seaborn as sns\n",
        "import keras\n",
        "import sys\n",
        "import h5py\n",
        "import warnings\n",
        "from tqdm import tqdm"
      ]
    },
    {
      "cell_type": "code",
      "source": [
        "from google.colab import drive\n",
        "drive.mount('/content/drive')\n",
        ""
      ],
      "metadata": {
        "colab": {
          "base_uri": "https://localhost:8080/"
        },
        "id": "JY09sTtVqYIF",
        "outputId": "baa61b45-6323-4373-af33-4fdf7218a2f3"
      },
      "execution_count": 2,
      "outputs": [
        {
          "output_type": "stream",
          "name": "stdout",
          "text": [
            "Mounted at /content/drive\n"
          ]
        }
      ]
    },
    {
      "cell_type": "code",
      "source": [
        "clean_data_filename = '/content/drive/MyDrive/lab4/cl/valid.h5'\n",
        "poisoned_data_filename = '/content/drive/MyDrive/lab4/bd/bd_valid.h5'\n",
        "model_filename = '/content/drive/MyDrive/lab4/model/sunglasses_bd_net.h5'"
      ],
      "metadata": {
        "id": "Tyd5Xn2uqesT"
      },
      "execution_count": 4,
      "outputs": []
    },
    {
      "cell_type": "code",
      "source": [
        "def data_loader(filepath):\n",
        "    data = h5py.File(filepath, 'r')\n",
        "    x_data = np.array(data['data'])\n",
        "    y_data = np.array(data['label'])\n",
        "    x_data = x_data.transpose((0,2,3,1))\n",
        "\n",
        "    return x_data, y_data\n",
        "\n",
        "def main():\n",
        "    cl_x_test, cl_y_test = data_loader(clean_data_filename)\n",
        "    bd_x_test, bd_y_test = data_loader(poisoned_data_filename)\n",
        "\n",
        "    bd_model = keras.models.load_model(model_filename)\n",
        "\n",
        "    cl_label_p = np.argmax(bd_model.predict(cl_x_test), axis=1)\n",
        "    clean_accuracy = np.mean(np.equal(cl_label_p, cl_y_test))*100\n",
        "    print('Clean Classification accuracy:', clean_accuracy)\n",
        "\n",
        "    bd_label_p = np.argmax(bd_model.predict(bd_x_test), axis=1)\n",
        "    asr = np.mean(np.equal(bd_label_p, bd_y_test))*100\n",
        "    print('Attack Success Rate:', asr)\n",
        "\n",
        "if __name__ == '__main__':\n",
        "    main()\n",
        ""
      ],
      "metadata": {
        "colab": {
          "base_uri": "https://localhost:8080/"
        },
        "id": "bCxsGoT9rkUP",
        "outputId": "c1d3474d-968d-4b92-ce87-adf330d77c41"
      },
      "execution_count": 5,
      "outputs": [
        {
          "output_type": "stream",
          "name": "stdout",
          "text": [
            "361/361 [==============================] - 4s 10ms/step\n",
            "Clean Classification accuracy: 42.25339915129471\n",
            "361/361 [==============================] - 4s 10ms/step\n",
            "Attack Success Rate: 99.9047371611674\n"
          ]
        }
      ]
    },
    {
      "cell_type": "code",
      "source": [
        "model = keras.models.load_model(model_filename)\n"
      ],
      "metadata": {
        "id": "xgtOtiKRr1fr"
      },
      "execution_count": 6,
      "outputs": []
    },
    {
      "cell_type": "code",
      "source": [
        "print(model.summary())\n"
      ],
      "metadata": {
        "colab": {
          "base_uri": "https://localhost:8080/"
        },
        "id": "bpQCFY1er4zF",
        "outputId": "84dc2525-325c-4a7e-8ade-1fc59a3e1175"
      },
      "execution_count": 7,
      "outputs": [
        {
          "output_type": "stream",
          "name": "stdout",
          "text": [
            "Model: \"model_1\"\n",
            "__________________________________________________________________________________________________\n",
            " Layer (type)                Output Shape                 Param #   Connected to                  \n",
            "==================================================================================================\n",
            " input (InputLayer)          [(None, 55, 47, 3)]          0         []                            \n",
            "                                                                                                  \n",
            " conv_1 (Conv2D)             (None, 52, 44, 20)           980       ['input[0][0]']               \n",
            "                                                                                                  \n",
            " pool_1 (MaxPooling2D)       (None, 26, 22, 20)           0         ['conv_1[0][0]']              \n",
            "                                                                                                  \n",
            " conv_2 (Conv2D)             (None, 24, 20, 40)           7240      ['pool_1[0][0]']              \n",
            "                                                                                                  \n",
            " pool_2 (MaxPooling2D)       (None, 12, 10, 40)           0         ['conv_2[0][0]']              \n",
            "                                                                                                  \n",
            " conv_3 (Conv2D)             (None, 10, 8, 60)            21660     ['pool_2[0][0]']              \n",
            "                                                                                                  \n",
            " pool_3 (MaxPooling2D)       (None, 5, 4, 60)             0         ['conv_3[0][0]']              \n",
            "                                                                                                  \n",
            " conv_4 (Conv2D)             (None, 4, 3, 80)             19280     ['pool_3[0][0]']              \n",
            "                                                                                                  \n",
            " flatten_1 (Flatten)         (None, 1200)                 0         ['pool_3[0][0]']              \n",
            "                                                                                                  \n",
            " flatten_2 (Flatten)         (None, 960)                  0         ['conv_4[0][0]']              \n",
            "                                                                                                  \n",
            " fc_1 (Dense)                (None, 160)                  192160    ['flatten_1[0][0]']           \n",
            "                                                                                                  \n",
            " fc_2 (Dense)                (None, 160)                  153760    ['flatten_2[0][0]']           \n",
            "                                                                                                  \n",
            " add_1 (Add)                 (None, 160)                  0         ['fc_1[0][0]',                \n",
            "                                                                     'fc_2[0][0]']                \n",
            "                                                                                                  \n",
            " activation_1 (Activation)   (None, 160)                  0         ['add_1[0][0]']               \n",
            "                                                                                                  \n",
            " output (Dense)              (None, 1283)                 206563    ['activation_1[0][0]']        \n",
            "                                                                                                  \n",
            "==================================================================================================\n",
            "Total params: 601643 (2.30 MB)\n",
            "Trainable params: 601643 (2.30 MB)\n",
            "Non-trainable params: 0 (0.00 Byte)\n",
            "__________________________________________________________________________________________________\n",
            "None\n"
          ]
        }
      ]
    },
    {
      "cell_type": "code",
      "source": [
        "x_data, y_data = data_loader(clean_data_filename)\n"
      ],
      "metadata": {
        "id": "6Ije2Mulr79N"
      },
      "execution_count": 8,
      "outputs": []
    },
    {
      "cell_type": "code",
      "source": [
        "\n",
        "figure = plt.figure(figsize=(10,8))\n",
        "cols, rows = 3,3\n",
        "for i in range(1, cols*rows+1):\n",
        "  index = np.random.randint(x_data.shape[0], size=1)\n",
        "  img, label = (x_data[index], y_data[index])\n",
        "  figure.add_subplot(rows, cols, i)\n",
        "  plt.title(\"true label: {}\".format(label))\n",
        "  plt.axis(\"off\")\n",
        "  plt.imshow(img[0]/255)\n",
        "plt.show()"
      ],
      "metadata": {
        "colab": {
          "base_uri": "https://localhost:8080/",
          "height": 605
        },
        "id": "7T4la6WfsACt",
        "outputId": "55c9aab7-afad-46fd-c2e7-135ec7d27d00"
      },
      "execution_count": 9,
      "outputs": [
        {
          "output_type": "display_data",
          "data": {
            "text/plain": [
              "<Figure size 1000x800 with 9 Axes>"
            ],
            "image/png": "[encoded data removed]"
          },
          "metadata": {}
        }
      ]
    },
    {
      "cell_type": "code",
      "source": [
        "x_poisoned_data, y_poisoned_data = data_loader(poisoned_data_filename)\n"
      ],
      "metadata": {
        "id": "lXlfHDE8sC2A"
      },
      "execution_count": 10,
      "outputs": []
    },
    {
      "cell_type": "code",
      "source": [
        "figure = plt.figure(figsize=(10,8))\n",
        "cols, rows = 3,3\n",
        "for i in range(1, cols*rows+1):\n",
        "  index = np.random.randint(x_poisoned_data.shape[0], size=1)\n",
        "  img, label = (x_poisoned_data[index], y_poisoned_data[index])\n",
        "  figure.add_subplot(rows, cols, i)\n",
        "  plt.title(\"true label: {}\".format(label))\n",
        "  plt.axis(\"off\")\n",
        "  plt.imshow(img[0]/255)\n",
        "plt.show()"
      ],
      "metadata": {
        "colab": {
          "base_uri": "https://localhost:8080/",
          "height": 605
        },
        "id": "Dbr5m-EzsFf6",
        "outputId": "86e3b9c9-0d59-4af3-9fd1-228bc09d897d"
      },
      "execution_count": 11,
      "outputs": [
        {
          "output_type": "display_data",
          "data": {
            "text/plain": [
              "<Figure size 1000x800 with 9 Axes>"
            ],
            "image/png": "[encoded data removed]"
          },
          "metadata": {}
        }
      ]
    },
    {
      "cell_type": "code",
      "source": [
        "keras.backend.clear_session()"
      ],
      "metadata": {
        "id": "q8Kj_tUAsI9n"
      },
      "execution_count": 12,
      "outputs": []
    },
    {
      "cell_type": "code",
      "source": [
        "cl_x_test, cl_y_test = data_loader(clean_data_filename)\n",
        "bd_x_test, bd_y_test = data_loader(poisoned_data_filename)"
      ],
      "metadata": {
        "id": "p66C0uo7sNQt"
      },
      "execution_count": 13,
      "outputs": []
    },
    {
      "cell_type": "code",
      "source": [
        "clean_data_acc = 98.64899974019225\n",
        "model_copy = keras.models.clone_model(model)\n",
        "model_copy.set_weights(model.get_weights())\n",
        "prune_index = []\n",
        "clean_acc = []\n",
        "asrate = []\n",
        "saved_model = np.zeros(3,dtype=bool)\n",
        "\n",
        "# getting the activation from the last pooling layer\n",
        "layer_output=model_copy.get_layer('pool_3').output\n",
        "intermediate_model=keras.models.Model(inputs=model_copy.input,outputs=layer_output)\n",
        "intermediate_prediction=intermediate_model.predict(cl_x_test)\n",
        "temp = np.mean(intermediate_prediction,axis=(0,1,2))\n",
        "seq = np.argsort(temp)\n",
        "weight_0 = model_copy.layers[5].get_weights()[0]\n",
        "bias_0 = model_copy.layers[5].get_weights()[1]\n",
        "\n",
        "for channel_index in tqdm(seq):\n",
        "  weight_0[:,:,:,channel_index] = 0\n",
        "  bias_0[channel_index] = 0\n",
        "  model_copy.layers[5].set_weights([weight_0, bias_0])\n",
        "  cl_label_p = np.argmax(model_copy.predict(cl_x_test), axis=1)\n",
        "  clean_accuracy = np.mean(np.equal(cl_label_p, cl_y_test))*100\n",
        "  if (clean_data_acc-clean_accuracy >= 2 and not saved_model[0]):\n",
        "    print(\"The accuracy drops at least 2%, saved the model\")\n",
        "    model_copy.save('model_X=2.h5')\n",
        "    saved_model[0] = 1\n",
        "  if (clean_data_acc-clean_accuracy >= 4 and not saved_model[1]):\n",
        "    print(\"The accuracy drops at least 4%, saved the model\")\n",
        "    model_copy.save('model_X=4.h5')\n",
        "    saved_model[1] = 1\n",
        "  if (clean_data_acc-clean_accuracy >= 10 and not saved_model[2]):\n",
        "    print(\"The accuracy drops at least 10%, saved the model\")\n",
        "    model_copy.save('model_X=10.h5')\n",
        "    saved_model[2] = 1\n",
        "  clean_acc.append(clean_accuracy)\n",
        "  bd_label_p = np.argmax(model_copy.predict(bd_x_test), axis=1)\n",
        "  asr = np.mean(np.equal(bd_label_p, bd_y_test))*100\n",
        "  asrate.append(asr)\n",
        "  print()\n",
        "  print(\"The clean accuracy is: \",clean_accuracy)\n",
        "  print(\"The attack success rate is: \",asr)\n",
        "  print(\"The pruned channel index is: \",channel_index)\n",
        "  keras.backend.clear_session()"
      ],
      "metadata": {
        "colab": {
          "base_uri": "https://localhost:8080/"
        },
        "id": "bIjkRd-wsPlk",
        "outputId": "4c273441-ae60-4984-e984-5de3e1ef61df"
      },
      "execution_count": 14,
      "outputs": [
        {
          "output_type": "stream",
          "name": "stdout",
          "text": [
            "361/361 [==============================] - 3s 9ms/step\n"
          ]
        },
        {
          "output_type": "stream",
          "name": "stderr",
          "text": [
            "\r  0%|          | 0/60 [00:00<?, ?it/s]"
          ]
        },
        {
          "output_type": "stream",
          "name": "stdout",
          "text": [
            "361/361 [==============================] - 4s 10ms/step\n"
          ]
        },
        {
          "output_type": "stream",
          "name": "stderr",
          "text": [
            "/usr/local/lib/python3.10/dist-packages/keras/src/engine/training.py:3079: UserWarning: You are saving your model as an HDF5 file via `model.save()`. This file format is considered legacy. We recommend using instead the native Keras format, e.g. `model.save('my_model.keras')`.\n",
            "  saving_api.save_model(\n",
            "WARNING:tensorflow:Compiled the loaded model, but the compiled metrics have yet to be built. `model.compile_metrics` will be empty until you train or evaluate the model.\n",
            "WARNING:tensorflow:Compiled the loaded model, but the compiled metrics have yet to be built. `model.compile_metrics` will be empty until you train or evaluate the model.\n"
          ]
        },
        {
          "output_type": "stream",
          "name": "stdout",
          "text": [
            "The accuracy drops at least 2%, saved the model\n",
            "The accuracy drops at least 4%, saved the model\n"
          ]
        },
        {
          "output_type": "stream",
          "name": "stderr",
          "text": [
            "WARNING:tensorflow:Compiled the loaded model, but the compiled metrics have yet to be built. `model.compile_metrics` will be empty until you train or evaluate the model.\n"
          ]
        },
        {
          "output_type": "stream",
          "name": "stdout",
          "text": [
            "The accuracy drops at least 10%, saved the model\n",
            "361/361 [==============================] - 4s 10ms/step\n"
          ]
        },
        {
          "output_type": "stream",
          "name": "stderr",
          "text": [
            "\r  2%|▏         | 1/60 [00:09<09:06,  9.26s/it]"
          ]
        },
        {
          "output_type": "stream",
          "name": "stdout",
          "text": [
            "\n",
            "The clean accuracy is:  42.25339915129471\n",
            "The attack success rate is:  99.9047371611674\n",
            "The pruned channel index is:  32\n",
            "361/361 [==============================] - 4s 10ms/step\n",
            "361/361 [==============================] - 4s 10ms/step\n"
          ]
        },
        {
          "output_type": "stream",
          "name": "stderr",
          "text": [
            "\r  3%|▎         | 2/60 [00:18<08:57,  9.27s/it]"
          ]
        },
        {
          "output_type": "stream",
          "name": "stdout",
          "text": [
            "\n",
            "The clean accuracy is:  42.25339915129471\n",
            "The attack success rate is:  99.9047371611674\n",
            "The pruned channel index is:  44\n",
            "361/361 [==============================] - 3s 10ms/step\n",
            "361/361 [==============================] - 4s 10ms/step\n",
            "\n",
            "The clean accuracy is:  42.25339915129471\n",
            "The attack success rate is:  99.9047371611674\n",
            "The pruned channel index is:  49\n"
          ]
        },
        {
          "output_type": "stream",
          "name": "stderr",
          "text": [
            "\r  5%|▌         | 3/60 [00:29<09:27,  9.96s/it]"
          ]
        },
        {
          "output_type": "stream",
          "name": "stdout",
          "text": [
            "361/361 [==============================] - 4s 10ms/step\n",
            "361/361 [==============================] - 4s 10ms/step\n",
            "\n",
            "The clean accuracy is:  42.2620594093704\n",
            "The attack success rate is:  99.9047371611674\n",
            "The pruned channel index is:  37\n"
          ]
        },
        {
          "output_type": "stream",
          "name": "stderr",
          "text": [
            "\r  7%|▋         | 4/60 [00:38<09:02,  9.69s/it]"
          ]
        },
        {
          "output_type": "stream",
          "name": "stdout",
          "text": [
            "361/361 [==============================] - 4s 10ms/step\n",
            "361/361 [==============================] - 4s 12ms/step\n"
          ]
        },
        {
          "output_type": "stream",
          "name": "stderr",
          "text": [
            "\r  8%|▊         | 5/60 [00:49<09:26, 10.29s/it]"
          ]
        },
        {
          "output_type": "stream",
          "name": "stdout",
          "text": [
            "\n",
            "The clean accuracy is:  42.2620594093704\n",
            "The attack success rate is:  99.9047371611674\n",
            "The pruned channel index is:  36\n",
            "361/361 [==============================] - 4s 10ms/step\n",
            "361/361 [==============================] - 4s 10ms/step\n",
            "\n",
            "The clean accuracy is:  42.2620594093704\n",
            "The attack success rate is:  99.9047371611674\n",
            "The pruned channel index is:  31\n"
          ]
        },
        {
          "output_type": "stream",
          "name": "stderr",
          "text": [
            "\r 10%|█         | 6/60 [00:59<08:59,  9.99s/it]"
          ]
        },
        {
          "output_type": "stream",
          "name": "stdout",
          "text": [
            "361/361 [==============================] - 4s 10ms/step\n",
            "361/361 [==============================] - 4s 10ms/step\n"
          ]
        },
        {
          "output_type": "stream",
          "name": "stderr",
          "text": [
            "\r 12%|█▏        | 7/60 [01:08<08:37,  9.76s/it]"
          ]
        },
        {
          "output_type": "stream",
          "name": "stdout",
          "text": [
            "\n",
            "The clean accuracy is:  42.25339915129471\n",
            "The attack success rate is:  99.9047371611674\n",
            "The pruned channel index is:  50\n",
            "361/361 [==============================] - 4s 10ms/step\n",
            "361/361 [==============================] - 4s 10ms/step\n"
          ]
        },
        {
          "output_type": "stream",
          "name": "stderr",
          "text": [
            "\r 13%|█▎        | 8/60 [01:18<08:20,  9.63s/it]"
          ]
        },
        {
          "output_type": "stream",
          "name": "stdout",
          "text": [
            "\n",
            "The clean accuracy is:  42.24473889321902\n",
            "The attack success rate is:  99.9047371611674\n",
            "The pruned channel index is:  48\n",
            "361/361 [==============================] - 4s 10ms/step\n",
            "361/361 [==============================] - 4s 11ms/step\n"
          ]
        },
        {
          "output_type": "stream",
          "name": "stderr",
          "text": [
            "\r 15%|█▌        | 9/60 [01:28<08:29, 10.00s/it]"
          ]
        },
        {
          "output_type": "stream",
          "name": "stdout",
          "text": [
            "\n",
            "The clean accuracy is:  42.227418377067636\n",
            "The attack success rate is:  99.9047371611674\n",
            "The pruned channel index is:  33\n",
            "361/361 [==============================] - 4s 10ms/step\n",
            "361/361 [==============================] - 4s 10ms/step\n"
          ]
        },
        {
          "output_type": "stream",
          "name": "stderr",
          "text": [
            "\r 17%|█▋        | 10/60 [01:38<08:08,  9.77s/it]"
          ]
        },
        {
          "output_type": "stream",
          "name": "stdout",
          "text": [
            "\n",
            "The clean accuracy is:  42.184117086689184\n",
            "The attack success rate is:  99.9047371611674\n",
            "The pruned channel index is:  14\n",
            "361/361 [==============================] - 4s 10ms/step\n",
            "361/361 [==============================] - 4s 10ms/step\n"
          ]
        },
        {
          "output_type": "stream",
          "name": "stderr",
          "text": [
            "\r 18%|█▊        | 11/60 [01:47<07:53,  9.66s/it]"
          ]
        },
        {
          "output_type": "stream",
          "name": "stdout",
          "text": [
            "\n",
            "The clean accuracy is:  42.07153373170521\n",
            "The attack success rate is:  99.9047371611674\n",
            "The pruned channel index is:  35\n",
            "361/361 [==============================] - 4s 10ms/step\n",
            "361/361 [==============================] - 4s 10ms/step\n"
          ]
        },
        {
          "output_type": "stream",
          "name": "stderr",
          "text": [
            "\r 20%|██        | 12/60 [01:56<07:37,  9.52s/it]"
          ]
        },
        {
          "output_type": "stream",
          "name": "stdout",
          "text": [
            "\n",
            "The clean accuracy is:  42.097514505932274\n",
            "The attack success rate is:  99.9047371611674\n",
            "The pruned channel index is:  34\n",
            "361/361 [==============================] - 4s 10ms/step\n",
            "361/361 [==============================] - 4s 10ms/step\n"
          ]
        },
        {
          "output_type": "stream",
          "name": "stderr",
          "text": [
            "\r 22%|██▏       | 13/60 [02:05<07:23,  9.44s/it]"
          ]
        },
        {
          "output_type": "stream",
          "name": "stdout",
          "text": [
            "\n",
            "The clean accuracy is:  41.88100805404001\n",
            "The attack success rate is:  99.9047371611674\n",
            "The pruned channel index is:  1\n",
            "361/361 [==============================] - 4s 10ms/step\n",
            "361/361 [==============================] - 4s 10ms/step\n"
          ]
        },
        {
          "output_type": "stream",
          "name": "stderr",
          "text": [
            "\r 23%|██▎       | 14/60 [02:15<07:12,  9.39s/it]"
          ]
        },
        {
          "output_type": "stream",
          "name": "stdout",
          "text": [
            "\n",
            "The clean accuracy is:  41.65584134407205\n",
            "The attack success rate is:  99.9047371611674\n",
            "The pruned channel index is:  2\n",
            "361/361 [==============================] - 4s 10ms/step\n",
            "361/361 [==============================] - 4s 10ms/step\n"
          ]
        },
        {
          "output_type": "stream",
          "name": "stderr",
          "text": [
            "\r 25%|██▌       | 15/60 [02:24<06:58,  9.30s/it]"
          ]
        },
        {
          "output_type": "stream",
          "name": "stdout",
          "text": [
            "\n",
            "The clean accuracy is:  41.48263618255824\n",
            "The attack success rate is:  99.9047371611674\n",
            "The pruned channel index is:  42\n",
            "361/361 [==============================] - 4s 10ms/step\n",
            "361/361 [==============================] - 4s 10ms/step\n",
            "\n",
            "The clean accuracy is:  41.44799515025548\n",
            "The attack success rate is:  99.9047371611674\n",
            "The pruned channel index is:  12\n"
          ]
        },
        {
          "output_type": "stream",
          "name": "stderr",
          "text": [
            "\r 27%|██▋       | 16/60 [02:33<06:50,  9.34s/it]"
          ]
        },
        {
          "output_type": "stream",
          "name": "stdout",
          "text": [
            "361/361 [==============================] - 4s 10ms/step\n",
            "361/361 [==============================] - 4s 11ms/step\n",
            "\n",
            "The clean accuracy is:  41.188187407984756\n",
            "The attack success rate is:  99.89607690309171\n",
            "The pruned channel index is:  24\n"
          ]
        },
        {
          "output_type": "stream",
          "name": "stderr",
          "text": [
            "\r 28%|██▊       | 17/60 [02:43<06:44,  9.42s/it]"
          ]
        },
        {
          "output_type": "stream",
          "name": "stdout",
          "text": [
            "361/361 [==============================] - 3s 10ms/step\n",
            "361/361 [==============================] - 4s 10ms/step\n"
          ]
        },
        {
          "output_type": "stream",
          "name": "stderr",
          "text": [
            "\r 30%|███       | 18/60 [02:53<06:49,  9.74s/it]"
          ]
        },
        {
          "output_type": "stream",
          "name": "stdout",
          "text": [
            "\n",
            "The clean accuracy is:  40.61661037498918\n",
            "The attack success rate is:  99.88741664501603\n",
            "The pruned channel index is:  47\n",
            "361/361 [==============================] - 4s 10ms/step\n",
            "361/361 [==============================] - 4s 10ms/step\n"
          ]
        },
        {
          "output_type": "stream",
          "name": "stderr",
          "text": [
            "\r 32%|███▏      | 19/60 [03:03<06:36,  9.66s/it]"
          ]
        },
        {
          "output_type": "stream",
          "name": "stdout",
          "text": [
            "\n",
            "The clean accuracy is:  39.36953321208972\n",
            "The attack success rate is:  99.89607690309171\n",
            "The pruned channel index is:  3\n",
            "361/361 [==============================] - 4s 10ms/step\n",
            "361/361 [==============================] - 4s 11ms/step\n"
          ]
        },
        {
          "output_type": "stream",
          "name": "stderr",
          "text": [
            "\r 33%|███▎      | 20/60 [03:13<06:37,  9.93s/it]"
          ]
        },
        {
          "output_type": "stream",
          "name": "stdout",
          "text": [
            "\n",
            "The clean accuracy is:  38.62475101758032\n",
            "The attack success rate is:  99.89607690309171\n",
            "The pruned channel index is:  29\n",
            "361/361 [==============================] - 4s 10ms/step\n",
            "361/361 [==============================] - 4s 10ms/step\n"
          ]
        },
        {
          "output_type": "stream",
          "name": "stderr",
          "text": [
            "\r 35%|███▌      | 21/60 [03:23<06:18,  9.70s/it]"
          ]
        },
        {
          "output_type": "stream",
          "name": "stdout",
          "text": [
            "\n",
            "The clean accuracy is:  38.1830778557201\n",
            "The attack success rate is:  99.88741664501603\n",
            "The pruned channel index is:  58\n",
            "361/361 [==============================] - 4s 11ms/step\n",
            "361/361 [==============================] - 4s 10ms/step\n"
          ]
        },
        {
          "output_type": "stream",
          "name": "stderr",
          "text": [
            "\r 37%|███▋      | 22/60 [03:32<06:07,  9.66s/it]"
          ]
        },
        {
          "output_type": "stream",
          "name": "stdout",
          "text": [
            "\n",
            "The clean accuracy is:  37.550879016194685\n",
            "The attack success rate is:  99.87875638694032\n",
            "The pruned channel index is:  0\n",
            "361/361 [==============================] - 4s 10ms/step\n",
            "361/361 [==============================] - 4s 11ms/step\n"
          ]
        },
        {
          "output_type": "stream",
          "name": "stderr",
          "text": [
            "\r 38%|███▊      | 23/60 [03:42<05:55,  9.60s/it]"
          ]
        },
        {
          "output_type": "stream",
          "name": "stdout",
          "text": [
            "\n",
            "The clean accuracy is:  36.944660950896335\n",
            "The attack success rate is:  99.89607690309171\n",
            "The pruned channel index is:  8\n",
            "361/361 [==============================] - 4s 10ms/step\n",
            "361/361 [==============================] - 4s 10ms/step\n"
          ]
        },
        {
          "output_type": "stream",
          "name": "stderr",
          "text": [
            "\r 40%|████      | 24/60 [03:51<05:41,  9.49s/it]"
          ]
        },
        {
          "output_type": "stream",
          "name": "stdout",
          "text": [
            "\n",
            "The clean accuracy is:  35.368493981120636\n",
            "The attack success rate is:  99.85277561271326\n",
            "The pruned channel index is:  11\n",
            "361/361 [==============================] - 4s 11ms/step\n",
            "361/361 [==============================] - 4s 10ms/step\n"
          ]
        },
        {
          "output_type": "stream",
          "name": "stderr",
          "text": [
            "\r 42%|████▏     | 25/60 [04:00<05:33,  9.52s/it]"
          ]
        },
        {
          "output_type": "stream",
          "name": "stdout",
          "text": [
            "\n",
            "The clean accuracy is:  34.242660431280854\n",
            "The attack success rate is:  99.84411535463757\n",
            "The pruned channel index is:  23\n",
            "361/361 [==============================] - 4s 10ms/step\n",
            "361/361 [==============================] - 4s 10ms/step\n"
          ]
        },
        {
          "output_type": "stream",
          "name": "stderr",
          "text": [
            "\r 43%|████▎     | 26/60 [04:10<05:21,  9.47s/it]"
          ]
        },
        {
          "output_type": "stream",
          "name": "stdout",
          "text": [
            "\n",
            "The clean accuracy is:  33.203429462197974\n",
            "The attack success rate is:  99.83545509656187\n",
            "The pruned channel index is:  25\n",
            "361/361 [==============================] - 4s 10ms/step\n",
            "361/361 [==============================] - 4s 10ms/step\n"
          ]
        },
        {
          "output_type": "stream",
          "name": "stderr",
          "text": [
            "\r 45%|████▌     | 27/60 [04:19<05:09,  9.38s/it]"
          ]
        },
        {
          "output_type": "stream",
          "name": "stdout",
          "text": [
            "\n",
            "The clean accuracy is:  33.082185849138305\n",
            "The attack success rate is:  99.77483329003203\n",
            "The pruned channel index is:  52\n",
            "361/361 [==============================] - 4s 10ms/step\n",
            "361/361 [==============================] - 4s 10ms/step\n"
          ]
        },
        {
          "output_type": "stream",
          "name": "stderr",
          "text": [
            "\r 47%|████▋     | 28/60 [04:28<05:00,  9.40s/it]"
          ]
        },
        {
          "output_type": "stream",
          "name": "stdout",
          "text": [
            "\n",
            "The clean accuracy is:  32.57123062267255\n",
            "The attack success rate is:  99.73153199965358\n",
            "The pruned channel index is:  28\n",
            "361/361 [==============================] - 4s 10ms/step\n",
            "361/361 [==============================] - 4s 10ms/step\n"
          ]
        },
        {
          "output_type": "stream",
          "name": "stderr",
          "text": [
            "\r 48%|████▊     | 29/60 [04:38<04:49,  9.34s/it]"
          ]
        },
        {
          "output_type": "stream",
          "name": "stdout",
          "text": [
            "\n",
            "The clean accuracy is:  32.38070494500736\n",
            "The attack success rate is:  99.67957045119945\n",
            "The pruned channel index is:  57\n",
            "361/361 [==============================] - 4s 10ms/step\n",
            "361/361 [==============================] - 4s 10ms/step\n"
          ]
        },
        {
          "output_type": "stream",
          "name": "stderr",
          "text": [
            "\r 50%|█████     | 30/60 [04:47<04:39,  9.32s/it]"
          ]
        },
        {
          "output_type": "stream",
          "name": "stdout",
          "text": [
            "\n",
            "The clean accuracy is:  30.96042262059409\n",
            "The attack success rate is:  99.68823070927513\n",
            "The pruned channel index is:  15\n",
            "361/361 [==============================] - 4s 10ms/step\n",
            "361/361 [==============================] - 4s 11ms/step\n",
            "\n",
            "The clean accuracy is:  30.64865332986923\n",
            "The attack success rate is:  99.70555122542652\n",
            "The pruned channel index is:  16\n"
          ]
        },
        {
          "output_type": "stream",
          "name": "stderr",
          "text": [
            "\r 52%|█████▏    | 31/60 [04:56<04:31,  9.37s/it]"
          ]
        },
        {
          "output_type": "stream",
          "name": "stdout",
          "text": [
            "361/361 [==============================] - 4s 10ms/step\n",
            "361/361 [==============================] - 4s 10ms/step\n",
            "\n",
            "The clean accuracy is:  28.630813198233305\n",
            "The attack success rate is:  99.69689096735083\n",
            "The pruned channel index is:  43\n"
          ]
        },
        {
          "output_type": "stream",
          "name": "stderr",
          "text": [
            "\r 53%|█████▎    | 32/60 [05:05<04:19,  9.28s/it]"
          ]
        },
        {
          "output_type": "stream",
          "name": "stdout",
          "text": [
            "361/361 [==============================] - 4s 11ms/step\n",
            "361/361 [==============================] - 4s 10ms/step\n"
          ]
        },
        {
          "output_type": "stream",
          "name": "stderr",
          "text": [
            "\r 55%|█████▌    | 33/60 [05:15<04:11,  9.32s/it]"
          ]
        },
        {
          "output_type": "stream",
          "name": "stdout",
          "text": [
            "\n",
            "The clean accuracy is:  25.582402355590194\n",
            "The attack success rate is:  99.5323460639127\n",
            "The pruned channel index is:  41\n",
            "361/361 [==============================] - 4s 10ms/step\n",
            "361/361 [==============================] - 4s 10ms/step\n"
          ]
        },
        {
          "output_type": "stream",
          "name": "stderr",
          "text": [
            "\r 57%|█████▋    | 34/60 [05:24<04:03,  9.38s/it]"
          ]
        },
        {
          "output_type": "stream",
          "name": "stdout",
          "text": [
            "\n",
            "The clean accuracy is:  20.793279639733264\n",
            "The attack success rate is:  99.33316012817181\n",
            "The pruned channel index is:  55\n",
            "361/361 [==============================] - 4s 10ms/step\n",
            "361/361 [==============================] - 4s 10ms/step\n"
          ]
        },
        {
          "output_type": "stream",
          "name": "stderr",
          "text": [
            "\r 58%|█████▊    | 35/60 [05:33<03:53,  9.33s/it]"
          ]
        },
        {
          "output_type": "stream",
          "name": "stdout",
          "text": [
            "\n",
            "The clean accuracy is:  18.818740798475794\n",
            "The attack success rate is:  99.28119857971768\n",
            "The pruned channel index is:  40\n",
            "361/361 [==============================] - 4s 10ms/step\n",
            "361/361 [==============================] - 4s 10ms/step\n"
          ]
        },
        {
          "output_type": "stream",
          "name": "stderr",
          "text": [
            "\r 60%|██████    | 36/60 [05:43<03:43,  9.33s/it]"
          ]
        },
        {
          "output_type": "stream",
          "name": "stdout",
          "text": [
            "\n",
            "The clean accuracy is:  19.624144799515026\n",
            "The attack success rate is:  99.37646141855028\n",
            "The pruned channel index is:  9\n",
            "361/361 [==============================] - 4s 10ms/step\n",
            "361/361 [==============================] - 4s 10ms/step\n"
          ]
        },
        {
          "output_type": "stream",
          "name": "stderr",
          "text": [
            "\r 62%|██████▏   | 37/60 [05:54<03:44,  9.78s/it]"
          ]
        },
        {
          "output_type": "stream",
          "name": "stdout",
          "text": [
            "\n",
            "The clean accuracy is:  17.329176409457002\n",
            "The attack success rate is:  99.36780116047458\n",
            "The pruned channel index is:  19\n",
            "361/361 [==============================] - 4s 10ms/step\n",
            "361/361 [==============================] - 4s 10ms/step\n"
          ]
        },
        {
          "output_type": "stream",
          "name": "stderr",
          "text": [
            "\r 63%|██████▎   | 38/60 [06:03<03:31,  9.62s/it]"
          ]
        },
        {
          "output_type": "stream",
          "name": "stdout",
          "text": [
            "\n",
            "The clean accuracy is:  15.285355503594007\n",
            "The attack success rate is:  99.19459599896076\n",
            "The pruned channel index is:  56\n",
            "361/361 [==============================] - 4s 10ms/step\n",
            "361/361 [==============================] - 4s 10ms/step\n"
          ]
        },
        {
          "output_type": "stream",
          "name": "stderr",
          "text": [
            "\r 65%|██████▌   | 39/60 [06:13<03:27,  9.90s/it]"
          ]
        },
        {
          "output_type": "stream",
          "name": "stdout",
          "text": [
            "\n",
            "The clean accuracy is:  14.523252792933231\n",
            "The attack success rate is:  98.9001472243873\n",
            "The pruned channel index is:  10\n",
            "361/361 [==============================] - 4s 10ms/step\n",
            "361/361 [==============================] - 4s 10ms/step\n"
          ]
        },
        {
          "output_type": "stream",
          "name": "stderr",
          "text": [
            "\r 67%|██████▋   | 40/60 [06:23<03:15,  9.79s/it]"
          ]
        },
        {
          "output_type": "stream",
          "name": "stdout",
          "text": [
            "\n",
            "The clean accuracy is:  13.839092404953668\n",
            "The attack success rate is:  98.91746774053867\n",
            "The pruned channel index is:  18\n",
            "361/361 [==============================] - 4s 10ms/step\n",
            "361/361 [==============================] - 4s 10ms/step\n",
            "\n",
            "The clean accuracy is:  12.271585693253659\n",
            "The attack success rate is:  98.64033948211657\n",
            "The pruned channel index is:  46\n"
          ]
        },
        {
          "output_type": "stream",
          "name": "stderr",
          "text": [
            "\r 68%|██████▊   | 41/60 [06:32<03:02,  9.63s/it]"
          ]
        },
        {
          "output_type": "stream",
          "name": "stdout",
          "text": [
            "361/361 [==============================] - 4s 10ms/step\n",
            "361/361 [==============================] - 4s 10ms/step\n"
          ]
        },
        {
          "output_type": "stream",
          "name": "stderr",
          "text": [
            "\r 70%|███████   | 42/60 [06:42<02:51,  9.53s/it]"
          ]
        },
        {
          "output_type": "stream",
          "name": "stdout",
          "text": [
            "\n",
            "The clean accuracy is:  10.011258335498399\n",
            "The attack success rate is:  98.36321122369446\n",
            "The pruned channel index is:  6\n",
            "361/361 [==============================] - 4s 10ms/step\n",
            "361/361 [==============================] - 4s 10ms/step\n"
          ]
        },
        {
          "output_type": "stream",
          "name": "stderr",
          "text": [
            "\r 72%|███████▏  | 43/60 [06:51<02:40,  9.44s/it]"
          ]
        },
        {
          "output_type": "stream",
          "name": "stdout",
          "text": [
            "\n",
            "The clean accuracy is:  8.287866978435957\n",
            "The attack success rate is:  95.5572876071707\n",
            "The pruned channel index is:  30\n",
            "361/361 [==============================] - 4s 10ms/step\n",
            "361/361 [==============================] - 3s 10ms/step\n"
          ]
        },
        {
          "output_type": "stream",
          "name": "stderr",
          "text": [
            "\r 73%|███████▎  | 44/60 [07:01<02:35,  9.74s/it]"
          ]
        },
        {
          "output_type": "stream",
          "name": "stdout",
          "text": [
            "\n",
            "The clean accuracy is:  6.720360266735949\n",
            "The attack success rate is:  92.94188966831211\n",
            "The pruned channel index is:  45\n",
            "361/361 [==============================] - 4s 10ms/step\n",
            "361/361 [==============================] - 4s 10ms/step\n",
            "\n",
            "The clean accuracy is:  4.945007361219364\n",
            "The attack success rate is:  93.12375508790161\n",
            "The pruned channel index is:  4\n"
          ]
        },
        {
          "output_type": "stream",
          "name": "stderr",
          "text": [
            "\r 75%|███████▌  | 45/60 [07:12<02:29,  9.97s/it]"
          ]
        },
        {
          "output_type": "stream",
          "name": "stdout",
          "text": [
            "361/361 [==============================] - 4s 10ms/step\n",
            "361/361 [==============================] - 4s 10ms/step\n"
          ]
        },
        {
          "output_type": "stream",
          "name": "stderr",
          "text": [
            "\r 77%|███████▋  | 46/60 [07:22<02:22, 10.17s/it]"
          ]
        },
        {
          "output_type": "stream",
          "name": "stdout",
          "text": [
            "\n",
            "The clean accuracy is:  4.174244392482896\n",
            "The attack success rate is:  92.78600502294968\n",
            "The pruned channel index is:  53\n",
            "361/361 [==============================] - 4s 10ms/step\n",
            "361/361 [==============================] - 4s 10ms/step\n"
          ]
        },
        {
          "output_type": "stream",
          "name": "stderr",
          "text": [
            "\r 78%|███████▊  | 47/60 [07:31<02:08,  9.86s/it]"
          ]
        },
        {
          "output_type": "stream",
          "name": "stdout",
          "text": [
            "\n",
            "The clean accuracy is:  4.1136225859530615\n",
            "The attack success rate is:  86.44669611154411\n",
            "The pruned channel index is:  20\n",
            "361/361 [==============================] - 4s 11ms/step\n",
            "361/361 [==============================] - 4s 10ms/step\n"
          ]
        },
        {
          "output_type": "stream",
          "name": "stderr",
          "text": [
            "\r 80%|████████  | 48/60 [07:41<01:57,  9.77s/it]"
          ]
        },
        {
          "output_type": "stream",
          "name": "stdout",
          "text": [
            "\n",
            "The clean accuracy is:  3.524725036806097\n",
            "The attack success rate is:  87.81501688750325\n",
            "The pruned channel index is:  17\n",
            "361/361 [==============================] - 4s 10ms/step\n",
            "361/361 [==============================] - 4s 10ms/step\n"
          ]
        },
        {
          "output_type": "stream",
          "name": "stderr",
          "text": [
            "\r 82%|████████▏ | 49/60 [07:50<01:46,  9.65s/it]"
          ]
        },
        {
          "output_type": "stream",
          "name": "stdout",
          "text": [
            "\n",
            "The clean accuracy is:  3.0830518749458733\n",
            "The attack success rate is:  80.37585520048496\n",
            "The pruned channel index is:  38\n",
            "361/361 [==============================] - 4s 10ms/step\n",
            "361/361 [==============================] - 4s 10ms/step\n"
          ]
        },
        {
          "output_type": "stream",
          "name": "stderr",
          "text": [
            "\r 83%|████████▎ | 50/60 [08:00<01:35,  9.52s/it]"
          ]
        },
        {
          "output_type": "stream",
          "name": "stdout",
          "text": [
            "\n",
            "The clean accuracy is:  3.3168788429895213\n",
            "The attack success rate is:  88.85424785658613\n",
            "The pruned channel index is:  27\n",
            "361/361 [==============================] - 4s 10ms/step\n",
            "361/361 [==============================] - 4s 10ms/step\n"
          ]
        },
        {
          "output_type": "stream",
          "name": "stderr",
          "text": [
            "\r 85%|████████▌ | 51/60 [08:09<01:25,  9.47s/it]"
          ]
        },
        {
          "output_type": "stream",
          "name": "stdout",
          "text": [
            "\n",
            "The clean accuracy is:  2.892526197280679\n",
            "The attack success rate is:  95.72183251060882\n",
            "The pruned channel index is:  26\n",
            "361/361 [==============================] - 3s 10ms/step\n",
            "361/361 [==============================] - 3s 10ms/step\n"
          ]
        },
        {
          "output_type": "stream",
          "name": "stderr",
          "text": [
            "\r 87%|████████▋ | 52/60 [08:18<01:14,  9.37s/it]"
          ]
        },
        {
          "output_type": "stream",
          "name": "stdout",
          "text": [
            "\n",
            "The clean accuracy is:  2.407551745042002\n",
            "The attack success rate is:  96.44929418896683\n",
            "The pruned channel index is:  59\n",
            "361/361 [==============================] - 4s 10ms/step\n",
            "361/361 [==============================] - 4s 10ms/step\n"
          ]
        },
        {
          "output_type": "stream",
          "name": "stderr",
          "text": [
            "\r 88%|████████▊ | 53/60 [08:27<01:05,  9.35s/it]"
          ]
        },
        {
          "output_type": "stream",
          "name": "stdout",
          "text": [
            "\n",
            "The clean accuracy is:  1.4895643890187926\n",
            "The attack success rate is:  97.4019225772928\n",
            "The pruned channel index is:  7\n",
            "361/361 [==============================] - 4s 10ms/step\n",
            "361/361 [==============================] - 4s 11ms/step\n"
          ]
        },
        {
          "output_type": "stream",
          "name": "stderr",
          "text": [
            "\r 90%|█████████ | 54/60 [08:37<00:56,  9.35s/it]"
          ]
        },
        {
          "output_type": "stream",
          "name": "stdout",
          "text": [
            "\n",
            "The clean accuracy is:  0.883346323720447\n",
            "The attack success rate is:  98.9780895470685\n",
            "The pruned channel index is:  39\n",
            "361/361 [==============================] - 4s 10ms/step\n",
            "361/361 [==============================] - 4s 10ms/step\n"
          ]
        },
        {
          "output_type": "stream",
          "name": "stderr",
          "text": [
            "\r 92%|█████████▏| 55/60 [08:46<00:46,  9.33s/it]"
          ]
        },
        {
          "output_type": "stream",
          "name": "stdout",
          "text": [
            "\n",
            "The clean accuracy is:  0.3117692907248636\n",
            "The attack success rate is:  99.93937819347016\n",
            "The pruned channel index is:  22\n",
            "361/361 [==============================] - 4s 10ms/step\n",
            "361/361 [==============================] - 4s 10ms/step\n"
          ]
        },
        {
          "output_type": "stream",
          "name": "stderr",
          "text": [
            "\r 93%|█████████▎| 56/60 [08:55<00:37,  9.34s/it]"
          ]
        },
        {
          "output_type": "stream",
          "name": "stdout",
          "text": [
            "\n",
            "The clean accuracy is:  0.3117692907248636\n",
            "The attack success rate is:  99.22057677318784\n",
            "The pruned channel index is:  54\n",
            "361/361 [==============================] - 3s 10ms/step\n",
            "361/361 [==============================] - 4s 10ms/step\n"
          ]
        },
        {
          "output_type": "stream",
          "name": "stderr",
          "text": [
            "\r 95%|█████████▌| 57/60 [09:06<00:29,  9.67s/it]"
          ]
        },
        {
          "output_type": "stream",
          "name": "stdout",
          "text": [
            "\n",
            "The clean accuracy is:  0.3550705811033169\n",
            "The attack success rate is:  95.93833896250108\n",
            "The pruned channel index is:  21\n",
            "361/361 [==============================] - 4s 10ms/step\n",
            "361/361 [==============================] - 4s 10ms/step\n"
          ]
        },
        {
          "output_type": "stream",
          "name": "stderr",
          "text": [
            "\r 97%|█████████▋| 58/60 [09:15<00:19,  9.55s/it]"
          ]
        },
        {
          "output_type": "stream",
          "name": "stdout",
          "text": [
            "\n",
            "The clean accuracy is:  0.20784619381657576\n",
            "The attack success rate is:  99.92205767731879\n",
            "The pruned channel index is:  5\n",
            "361/361 [==============================] - 4s 10ms/step\n",
            "361/361 [==============================] - 4s 10ms/step\n",
            "\n",
            "The clean accuracy is:  0.08660258075690655\n",
            "The attack success rate is:  100.0\n",
            "The pruned channel index is:  51\n"
          ]
        },
        {
          "output_type": "stream",
          "name": "stderr",
          "text": [
            "\r 98%|█████████▊| 59/60 [09:24<00:09,  9.48s/it]"
          ]
        },
        {
          "output_type": "stream",
          "name": "stdout",
          "text": [
            "361/361 [==============================] - 4s 10ms/step\n",
            "361/361 [==============================] - 4s 10ms/step\n"
          ]
        },
        {
          "output_type": "stream",
          "name": "stderr",
          "text": [
            "100%|██████████| 60/60 [09:34<00:00,  9.57s/it]"
          ]
        },
        {
          "output_type": "stream",
          "name": "stdout",
          "text": [
            "\n",
            "The clean accuracy is:  0.0779423226812159\n",
            "The attack success rate is:  0.0\n",
            "The pruned channel index is:  13\n"
          ]
        },
        {
          "output_type": "stream",
          "name": "stderr",
          "text": [
            "\n"
          ]
        }
      ]
    },
    {
      "cell_type": "code",
      "source": [
        "print(\"clean_accuracy: \", clean_acc)\n",
        "print(\"attack success rate: \", asrate)"
      ],
      "metadata": {
        "colab": {
          "base_uri": "https://localhost:8080/"
        },
        "id": "smx2deXLsV7e",
        "outputId": "c9c7b57f-a1a3-4c20-a122-76f7acbf2a64"
      },
      "execution_count": 15,
      "outputs": [
        {
          "output_type": "stream",
          "name": "stdout",
          "text": [
            "clean_accuracy:  [42.25339915129471, 42.25339915129471, 42.25339915129471, 42.2620594093704, 42.2620594093704, 42.2620594093704, 42.25339915129471, 42.24473889321902, 42.227418377067636, 42.184117086689184, 42.07153373170521, 42.097514505932274, 41.88100805404001, 41.65584134407205, 41.48263618255824, 41.44799515025548, 41.188187407984756, 40.61661037498918, 39.36953321208972, 38.62475101758032, 38.1830778557201, 37.550879016194685, 36.944660950896335, 35.368493981120636, 34.242660431280854, 33.203429462197974, 33.082185849138305, 32.57123062267255, 32.38070494500736, 30.96042262059409, 30.64865332986923, 28.630813198233305, 25.582402355590194, 20.793279639733264, 18.818740798475794, 19.624144799515026, 17.329176409457002, 15.285355503594007, 14.523252792933231, 13.839092404953668, 12.271585693253659, 10.011258335498399, 8.287866978435957, 6.720360266735949, 4.945007361219364, 4.174244392482896, 4.1136225859530615, 3.524725036806097, 3.0830518749458733, 3.3168788429895213, 2.892526197280679, 2.407551745042002, 1.4895643890187926, 0.883346323720447, 0.3117692907248636, 0.3117692907248636, 0.3550705811033169, 0.20784619381657576, 0.08660258075690655, 0.0779423226812159]\n",
            "attack success rate:  [99.9047371611674, 99.9047371611674, 99.9047371611674, 99.9047371611674, 99.9047371611674, 99.9047371611674, 99.9047371611674, 99.9047371611674, 99.9047371611674, 99.9047371611674, 99.9047371611674, 99.9047371611674, 99.9047371611674, 99.9047371611674, 99.9047371611674, 99.9047371611674, 99.89607690309171, 99.88741664501603, 99.89607690309171, 99.89607690309171, 99.88741664501603, 99.87875638694032, 99.89607690309171, 99.85277561271326, 99.84411535463757, 99.83545509656187, 99.77483329003203, 99.73153199965358, 99.67957045119945, 99.68823070927513, 99.70555122542652, 99.69689096735083, 99.5323460639127, 99.33316012817181, 99.28119857971768, 99.37646141855028, 99.36780116047458, 99.19459599896076, 98.9001472243873, 98.91746774053867, 98.64033948211657, 98.36321122369446, 95.5572876071707, 92.94188966831211, 93.12375508790161, 92.78600502294968, 86.44669611154411, 87.81501688750325, 80.37585520048496, 88.85424785658613, 95.72183251060882, 96.44929418896683, 97.4019225772928, 98.9780895470685, 99.93937819347016, 99.22057677318784, 95.93833896250108, 99.92205767731879, 100.0, 0.0]\n"
          ]
        }
      ]
    },
    {
      "cell_type": "code",
      "source": [
        "x_axis = np.arange(1,61)/60\n",
        "plt.plot(x_axis,clean_acc)\n",
        "plt.plot(x_axis,asrate)\n",
        "plt.legend(['clean_accuracy','attack success rate'])\n",
        "plt.xlabel(\"fraction of pruned channels\")\n",
        "plt.ylabel(\"rate\")\n",
        "plt.title(\"accuracy and attack success rate for validation dataset\")"
      ],
      "metadata": {
        "colab": {
          "base_uri": "https://localhost:8080/",
          "height": 489
        },
        "id": "T9mjZv-RsdUa",
        "outputId": "9f1152e5-e980-460c-bbc0-29c0c3528449"
      },
      "execution_count": 16,
      "outputs": [
        {
          "output_type": "execute_result",
          "data": {
            "text/plain": [
              "Text(0.5, 1.0, 'accuracy and attack success rate for validation dataset')"
            ]
          },
          "metadata": {},
          "execution_count": 16
        },
        {
          "output_type": "display_data",
          "data": {
            "text/plain": [
              "<Figure size 640x480 with 1 Axes>"
            ],
            "image/png": "[encoded data removed]"
          },
          "metadata": {}
        }
      ]
    },
    {
      "cell_type": "code",
      "source": [
        "index = np.where(np.array(clean_acc) <= (clean_data_acc-30))[0]\n",
        "print(\"The attack success rate when the accuracy drops at least 30%: \", asrate[index[0]])\n",
        ""
      ],
      "metadata": {
        "colab": {
          "base_uri": "https://localhost:8080/"
        },
        "id": "VWLdPhhzxyMB",
        "outputId": "d658281a-0d52-4a08-c984-0af17182cfa8"
      },
      "execution_count": 17,
      "outputs": [
        {
          "output_type": "stream",
          "name": "stdout",
          "text": [
            "The attack success rate when the accuracy drops at least 30%:  99.9047371611674\n"
          ]
        }
      ]
    },
    {
      "cell_type": "code",
      "source": [
        "class G(keras.Model):\n",
        "  def __init__(self, B, B_prime):\n",
        "      super(G, self).__init__()\n",
        "      self.B = B\n",
        "      self.B_prime = B_prime\n",
        "\n",
        "  def predict(self,data):\n",
        "      y = np.argmax(self.B(data), axis=1)\n",
        "      y_prime = np.argmax(self.B_prime(data), axis=1)\n",
        "      pred = np.zeros(data.shape[0])\n",
        "      for i in range(data.shape[0]):\n",
        "        if y[i]==y_prime[i]:\n",
        "          pred[i] = y[i]\n",
        "        else:\n",
        "          pred[i] = 1283\n",
        "      return pred"
      ],
      "metadata": {
        "id": "HDmpA3-hx2l2"
      },
      "execution_count": 18,
      "outputs": []
    },
    {
      "cell_type": "code",
      "source": [
        "test_data_filename = '/content/drive/MyDrive/lab4/cl/test.h5'\n",
        "poisoned_test_data_filename = '/content/drive/MyDrive/lab4/bd/bd_test.h5'\n",
        "test_model_X_2_filename = '/content/model_X=2.h5'\n",
        "test_model_X_4_filename = '/content/model_X=4.h5'\n",
        "test_model_X_10_filename = '/content/model_X=10.h5'"
      ],
      "metadata": {
        "id": "OwjPpHnRx5uD"
      },
      "execution_count": 29,
      "outputs": []
    },
    {
      "cell_type": "code",
      "source": [
        "test_model_X_2 = keras.models.load_model(test_model_X_2_filename)\n",
        "test_model_X_4 = keras.models.load_model(test_model_X_4_filename)\n",
        "test_model_X_10 = keras.models.load_model(test_model_X_10_filename)"
      ],
      "metadata": {
        "colab": {
          "base_uri": "https://localhost:8080/"
        },
        "id": "VF_QPAWUx9Je",
        "outputId": "2602f680-347e-4b3d-e282-aab0b6aae5ff"
      },
      "execution_count": 30,
      "outputs": [
        {
          "output_type": "stream",
          "name": "stderr",
          "text": [
            "WARNING:tensorflow:No training configuration found in the save file, so the model was *not* compiled. Compile it manually.\n",
            "WARNING:tensorflow:No training configuration found in the save file, so the model was *not* compiled. Compile it manually.\n",
            "WARNING:tensorflow:No training configuration found in the save file, so the model was *not* compiled. Compile it manually.\n"
          ]
        }
      ]
    },
    {
      "cell_type": "code",
      "source": [
        "x_test_data, y_test_data = data_loader(test_data_filename)\n",
        "x_test_poisoned_data, y_test_poisnoed_data = data_loader(poisoned_test_data_filename)"
      ],
      "metadata": {
        "id": "ZYTTNeOByBB2"
      },
      "execution_count": 31,
      "outputs": []
    },
    {
      "cell_type": "code",
      "source": [
        "print(\"x_test_data shape: \",x_test_data.shape)\n",
        "print(\"x_test_poisoned data shape: \",x_test_poisoned_data.shape)"
      ],
      "metadata": {
        "colab": {
          "base_uri": "https://localhost:8080/"
        },
        "id": "EJ9Y4HPa1XmC",
        "outputId": "8e2391d1-1082-41d3-c2b2-55f1fac8ffc3"
      },
      "execution_count": 32,
      "outputs": [
        {
          "output_type": "stream",
          "name": "stdout",
          "text": [
            "x_test_data shape:  (12830, 55, 47, 3)\n",
            "x_test_poisoned data shape:  (12830, 55, 47, 3)\n"
          ]
        }
      ]
    },
    {
      "cell_type": "code",
      "source": [
        "G_model_X_2 = G(model, test_model_X_2)\n",
        "G_model_X_4 = G(model, test_model_X_4)\n",
        "G_model_X_10 = G(model, test_model_X_10)"
      ],
      "metadata": {
        "id": "Byy9Qho91bJ4"
      },
      "execution_count": 33,
      "outputs": []
    },
    {
      "cell_type": "code",
      "source": [
        "cl_test_2_label_p = np.argmax(test_model_X_2.predict(x_test_data), axis=1)\n",
        "clean_test_2_accuracy = np.mean(np.equal(cl_test_2_label_p, y_test_data))*100\n",
        "print('2% drops model, the clean test data Classification accuracy:', clean_test_2_accuracy)\n",
        "\n",
        "bd_test_2_label_p = np.argmax(test_model_X_2.predict(x_test_poisoned_data), axis=1)\n",
        "asr_2 = np.mean(np.equal(bd_test_2_label_p, y_test_poisnoed_data))*100\n",
        "print('2% drops model, Attack Success Rate:', asr_2)\n",
        "\n",
        "cl_test_4_label_p = np.argmax(test_model_X_4.predict(x_test_data), axis=1)\n",
        "clean_test_4_accuracy = np.mean(np.equal(cl_test_4_label_p, y_test_data))*100\n",
        "print('4% drops model, the clean test data classification accuracy:', clean_test_4_accuracy)\n",
        "\n",
        "bd_test_4_label_p = np.argmax(test_model_X_4.predict(x_test_poisoned_data), axis=1)\n",
        "asr_4 = np.mean(np.equal(bd_test_4_label_p, y_test_poisnoed_data))*100\n",
        "print('4% drops model, Attack Success Rate:', asr_4)\n",
        "\n",
        "cl_test_10_label_p = np.argmax(test_model_X_10.predict(x_test_data), axis=1)\n",
        "clean_test_10_accuracy = np.mean(np.equal(cl_test_10_label_p, y_test_data))*100\n",
        "print('10% drops model, the clean test data classification accuracy:', clean_test_10_accuracy)\n",
        "\n",
        "bd_test_10_label_p = np.argmax(test_model_X_10.predict(x_test_poisoned_data), axis=1)\n",
        "asr_10 = np.mean(np.equal(bd_test_10_label_p, y_test_poisnoed_data))*100\n",
        "print('10% drops model, Attack Success Rate:', asr_10)"
      ],
      "metadata": {
        "colab": {
          "base_uri": "https://localhost:8080/"
        },
        "id": "E8ztdX9F1d69",
        "outputId": "87d8da92-cc9c-4387-8902-1c19b38ad5ed"
      },
      "execution_count": 34,
      "outputs": [
        {
          "output_type": "stream",
          "name": "stdout",
          "text": [
            "401/401 [==============================] - 4s 10ms/step\n",
            "2% drops model, the clean test data Classification accuracy: 42.361652377240844\n",
            "401/401 [==============================] - 4s 10ms/step\n",
            "2% drops model, Attack Success Rate: 99.92985190958692\n",
            "401/401 [==============================] - 4s 10ms/step\n",
            "4% drops model, the clean test data classification accuracy: 42.361652377240844\n",
            "401/401 [==============================] - 4s 10ms/step\n",
            "4% drops model, Attack Success Rate: 99.92985190958692\n",
            "401/401 [==============================] - 4s 10ms/step\n",
            "10% drops model, the clean test data classification accuracy: 42.361652377240844\n",
            "401/401 [==============================] - 4s 11ms/step\n",
            "10% drops model, Attack Success Rate: 99.92985190958692\n"
          ]
        }
      ]
    },
    {
      "cell_type": "code",
      "source": [
        "test_acc = [clean_test_2_accuracy, clean_test_4_accuracy, clean_test_10_accuracy]\n",
        "attack_rate = [asr_2, asr_4, asr_10]\n",
        "data = {\n",
        "    \"text_acc\": test_acc,\n",
        "    \"attack_rate\": attack_rate,\n",
        "    \"model\": [\"repaired_2%\", \"repaired_4%\", \"repaired_10%\"]\n",
        "}\n",
        "df = pd.DataFrame(data)\n",
        "df.set_index('model')"
      ],
      "metadata": {
        "colab": {
          "base_uri": "https://localhost:8080/",
          "height": 175
        },
        "id": "lGkOksTZ1jY4",
        "outputId": "07d0ecbe-5dce-4276-99a5-8d1a6b2ef20f"
      },
      "execution_count": 35,
      "outputs": [
        {
          "output_type": "execute_result",
          "data": {
            "text/plain": [
              "               text_acc  attack_rate\n",
              "model                               \n",
              "repaired_2%   42.361652    99.929852\n",
              "repaired_4%   42.361652    99.929852\n",
              "repaired_10%  42.361652    99.929852"
            ],
            "text/html": [
              "\n",
              "  <div id=\"df-34226b7f-e2a0-484e-ab31-5030c238fcca\" class=\"colab-df-container\">\n",
              "    <div>\n",
              "<style scoped>\n",
              "    .dataframe tbody tr th:only-of-type {\n",
              "        vertical-align: middle;\n",
              "    }\n",
              "\n",
              "    .dataframe tbody tr th {\n",
              "        vertical-align: top;\n",
              "    }\n",
              "\n",
              "    .dataframe thead th {\n",
              "        text-align: right;\n",
              "    }\n",
              "</style>\n",
              "<table border=\"1\" class=\"dataframe\">\n",
              "  <thead>\n",
              "    <tr style=\"text-align: right;\">\n",
              "      <th></th>\n",
              "      <th>text_acc</th>\n",
              "      <th>attack_rate</th>\n",
              "    </tr>\n",
              "    <tr>\n",
              "      <th>model</th>\n",
              "      <th></th>\n",
              "      <th></th>\n",
              "    </tr>\n",
              "  </thead>\n",
              "  <tbody>\n",
              "    <tr>\n",
              "      <th>repaired_2%</th>\n",
              "      <td>42.361652</td>\n",
              "      <td>99.929852</td>\n",
              "    </tr>\n",
              "    <tr>\n",
              "      <th>repaired_4%</th>\n",
              "      <td>42.361652</td>\n",
              "      <td>99.929852</td>\n",
              "    </tr>\n",
              "    <tr>\n",
              "      <th>repaired_10%</th>\n",
              "      <td>42.361652</td>\n",
              "      <td>99.929852</td>\n",
              "    </tr>\n",
              "  </tbody>\n",
              "</table>\n",
              "</div>\n",
              "    <div class=\"colab-df-buttons\">\n",
              "\n",
              "  <div class=\"colab-df-container\">\n",
              "    <button class=\"colab-df-convert\" onclick=\"convertToInteractive('df-34226b7f-e2a0-484e-ab31-5030c238fcca')\"\n",
              "            title=\"Convert this dataframe to an interactive table.\"\n",
              "            style=\"display:none;\">\n",
              "\n",
              "  <svg xmlns=\"http://www.w3.org/2000/svg\" height=\"24px\" viewBox=\"0 -960 960 960\">\n",
              "    <path d=\"M120-120v-720h720v720H120Zm60-500h600v-160H180v160Zm220 220h160v-160H400v160Zm0 220h160v-160H400v160ZM180-400h160v-160H180v160Zm440 0h160v-160H620v160ZM180-180h160v-160H180v160Zm440 0h160v-160H620v160Z\"/>\n",
              "  </svg>\n",
              "    </button>\n",
              "\n",
              "  <style>\n",
              "    .colab-df-container {\n",
              "      display:flex;\n",
              "      gap: 12px;\n",
              "    }\n",
              "\n",
              "    .colab-df-convert {\n",
              "      background-color: #E8F0FE;\n",
              "      border: none;\n",
              "      border-radius: 50%;\n",
              "      cursor: pointer;\n",
              "      display: none;\n",
              "      fill: #1967D2;\n",
              "      height: 32px;\n",
              "      padding: 0 0 0 0;\n",
              "      width: 32px;\n",
              "    }\n",
              "\n",
              "    .colab-df-convert:hover {\n",
              "      background-color: #E2EBFA;\n",
              "      box-shadow: 0px 1px 2px rgba(60, 64, 67, 0.3), 0px 1px 3px 1px rgba(60, 64, 67, 0.15);\n",
              "      fill: #174EA6;\n",
              "    }\n",
              "\n",
              "    .colab-df-buttons div {\n",
              "      margin-bottom: 4px;\n",
              "    }\n",
              "\n",
              "    [theme=dark] .colab-df-convert {\n",
              "      background-color: #3B4455;\n",
              "      fill: #D2E3FC;\n",
              "    }\n",
              "\n",
              "    [theme=dark] .colab-df-convert:hover {\n",
              "      background-color: #434B5C;\n",
              "      box-shadow: 0px 1px 3px 1px rgba(0, 0, 0, 0.15);\n",
              "      filter: drop-shadow(0px 1px 2px rgba(0, 0, 0, 0.3));\n",
              "      fill: #FFFFFF;\n",
              "    }\n",
              "  </style>\n",
              "\n",
              "    <script>\n",
              "      const buttonEl =\n",
              "        document.querySelector('#df-34226b7f-e2a0-484e-ab31-5030c238fcca button.colab-df-convert');\n",
              "      buttonEl.style.display =\n",
              "        google.colab.kernel.accessAllowed ? 'block' : 'none';\n",
              "\n",
              "      async function convertToInteractive(key) {\n",
              "        const element = document.querySelector('#df-34226b7f-e2a0-484e-ab31-5030c238fcca');\n",
              "        const dataTable =\n",
              "          await google.colab.kernel.invokeFunction('convertToInteractive',\n",
              "                                                    [key], {});\n",
              "        if (!dataTable) return;\n",
              "\n",
              "        const docLinkHtml = 'Like what you see? Visit the ' +\n",
              "          '<a target=\"_blank\" href=https://colab.research.google.com/notebooks/data_table.ipynb>data table notebook</a>'\n",
              "          + ' to learn more about interactive tables.';\n",
              "        element.innerHTML = '';\n",
              "        dataTable['output_type'] = 'display_data';\n",
              "        await google.colab.output.renderOutput(dataTable, element);\n",
              "        const docLink = document.createElement('div');\n",
              "        docLink.innerHTML = docLinkHtml;\n",
              "        element.appendChild(docLink);\n",
              "      }\n",
              "    </script>\n",
              "  </div>\n",
              "\n",
              "\n",
              "<div id=\"df-188dd53c-d715-4a8f-bb31-2dbed028ec68\">\n",
              "  <button class=\"colab-df-quickchart\" onclick=\"quickchart('df-188dd53c-d715-4a8f-bb31-2dbed028ec68')\"\n",
              "            title=\"Suggest charts\"\n",
              "            style=\"display:none;\">\n",
              "\n",
              "<svg xmlns=\"http://www.w3.org/2000/svg\" height=\"24px\"viewBox=\"0 0 24 24\"\n",
              "     width=\"24px\">\n",
              "    <g>\n",
              "        <path d=\"M19 3H5c-1.1 0-2 .9-2 2v14c0 1.1.9 2 2 2h14c1.1 0 2-.9 2-2V5c0-1.1-.9-2-2-2zM9 17H7v-7h2v7zm4 0h-2V7h2v10zm4 0h-2v-4h2v4z\"/>\n",
              "    </g>\n",
              "</svg>\n",
              "  </button>\n",
              "\n",
              "<style>\n",
              "  .colab-df-quickchart {\n",
              "      --bg-color: #E8F0FE;\n",
              "      --fill-color: #1967D2;\n",
              "      --hover-bg-color: #E2EBFA;\n",
              "      --hover-fill-color: #174EA6;\n",
              "      --disabled-fill-color: #AAA;\n",
              "      --disabled-bg-color: #DDD;\n",
              "  }\n",
              "\n",
              "  [theme=dark] .colab-df-quickchart {\n",
              "      --bg-color: #3B4455;\n",
              "      --fill-color: #D2E3FC;\n",
              "      --hover-bg-color: #434B5C;\n",
              "      --hover-fill-color: #FFFFFF;\n",
              "      --disabled-bg-color: #3B4455;\n",
              "      --disabled-fill-color: #666;\n",
              "  }\n",
              "\n",
              "  .colab-df-quickchart {\n",
              "    background-color: var(--bg-color);\n",
              "    border: none;\n",
              "    border-radius: 50%;\n",
              "    cursor: pointer;\n",
              "    display: none;\n",
              "    fill: var(--fill-color);\n",
              "    height: 32px;\n",
              "    padding: 0;\n",
              "    width: 32px;\n",
              "  }\n",
              "\n",
              "  .colab-df-quickchart:hover {\n",
              "    background-color: var(--hover-bg-color);\n",
              "    box-shadow: 0 1px 2px rgba(60, 64, 67, 0.3), 0 1px 3px 1px rgba(60, 64, 67, 0.15);\n",
              "    fill: var(--button-hover-fill-color);\n",
              "  }\n",
              "\n",
              "  .colab-df-quickchart-complete:disabled,\n",
              "  .colab-df-quickchart-complete:disabled:hover {\n",
              "    background-color: var(--disabled-bg-color);\n",
              "    fill: var(--disabled-fill-color);\n",
              "    box-shadow: none;\n",
              "  }\n",
              "\n",
              "  .colab-df-spinner {\n",
              "    border: 2px solid var(--fill-color);\n",
              "    border-color: transparent;\n",
              "    border-bottom-color: var(--fill-color);\n",
              "    animation:\n",
              "      spin 1s steps(1) infinite;\n",
              "  }\n",
              "\n",
              "  @keyframes spin {\n",
              "    0% {\n",
              "      border-color: transparent;\n",
              "      border-bottom-color: var(--fill-color);\n",
              "      border-left-color: var(--fill-color);\n",
              "    }\n",
              "    20% {\n",
              "      border-color: transparent;\n",
              "      border-left-color: var(--fill-color);\n",
              "      border-top-color: var(--fill-color);\n",
              "    }\n",
              "    30% {\n",
              "      border-color: transparent;\n",
              "      border-left-color: var(--fill-color);\n",
              "      border-top-color: var(--fill-color);\n",
              "      border-right-color: var(--fill-color);\n",
              "    }\n",
              "    40% {\n",
              "      border-color: transparent;\n",
              "      border-right-color: var(--fill-color);\n",
              "      border-top-color: var(--fill-color);\n",
              "    }\n",
              "    60% {\n",
              "      border-color: transparent;\n",
              "      border-right-color: var(--fill-color);\n",
              "    }\n",
              "    80% {\n",
              "      border-color: transparent;\n",
              "      border-right-color: var(--fill-color);\n",
              "      border-bottom-color: var(--fill-color);\n",
              "    }\n",
              "    90% {\n",
              "      border-color: transparent;\n",
              "      border-bottom-color: var(--fill-color);\n",
              "    }\n",
              "  }\n",
              "</style>\n",
              "\n",
              "  <script>\n",
              "    async function quickchart(key) {\n",
              "      const quickchartButtonEl =\n",
              "        document.querySelector('#' + key + ' button');\n",
              "      quickchartButtonEl.disabled = true;  // To prevent multiple clicks.\n",
              "      quickchartButtonEl.classList.add('colab-df-spinner');\n",
              "      try {\n",
              "        const charts = await google.colab.kernel.invokeFunction(\n",
              "            'suggestCharts', [key], {});\n",
              "      } catch (error) {\n",
              "        console.error('Error during call to suggestCharts:', error);\n",
              "      }\n",
              "      quickchartButtonEl.classList.remove('colab-df-spinner');\n",
              "      quickchartButtonEl.classList.add('colab-df-quickchart-complete');\n",
              "    }\n",
              "    (() => {\n",
              "      let quickchartButtonEl =\n",
              "        document.querySelector('#df-188dd53c-d715-4a8f-bb31-2dbed028ec68 button');\n",
              "      quickchartButtonEl.style.display =\n",
              "        google.colab.kernel.accessAllowed ? 'block' : 'none';\n",
              "    })();\n",
              "  </script>\n",
              "</div>\n",
              "\n",
              "    </div>\n",
              "  </div>\n"
            ]
          },
          "metadata": {},
          "execution_count": 35
        }
      ]
    },
    {
      "cell_type": "code",
      "source": [
        "opacity = 0.4\n",
        "bar_width = 0.35\n",
        "\n",
        "plt.xlabel('% drops model')\n",
        "plt.ylabel('Rate')\n",
        "\n",
        "plt.xticks(range(len(test_acc)),('2%', '4%', '10%'))\n",
        "bar1 = plt.bar(np.arange(len(test_acc)) + bar_width, test_acc, bar_width, align='center', alpha=opacity, color='b', label='accuracy')\n",
        "bar2 = plt.bar(range(len(attack_rate)), attack_rate, bar_width, align='center', alpha=opacity, color='r', label='attack rate')\n",
        "\n",
        "# Add counts above the two bar graphs\n",
        "for rect in bar1 + bar2:\n",
        "    height = rect.get_height()\n",
        "    plt.text(rect.get_x() + rect.get_width() / 2.0, height, f'{height:.02f}', ha='center', va='bottom')\n",
        "\n",
        "plt.legend(bbox_to_anchor=(1.4, 1))\n",
        "plt.tight_layout()\n",
        "plt.title('performance of repaired model')\n",
        "sns.despine()\n",
        "plt.show()"
      ],
      "metadata": {
        "colab": {
          "base_uri": "https://localhost:8080/",
          "height": 509
        },
        "id": "1AhyVfp31k_d",
        "outputId": "106660c4-c680-44ee-d083-4616166715a9"
      },
      "execution_count": 36,
      "outputs": [
        {
          "output_type": "display_data",
          "data": {
            "text/plain": [
              "<Figure size 640x480 with 1 Axes>"
            ],
            "image/png": "[encoded data removed]"
          },
          "metadata": {}
        }
      ]
    },
    {
      "cell_type": "code",
      "source": [
        "G_cl_test_2_label_p = G_model_X_2.predict(x_test_data)\n",
        "G_clean_test_2_accuracy = np.mean(np.equal(cl_test_2_label_p, y_test_data))*100\n",
        "print('Combined 2% drops model, the clean test data Classification accuracy:', G_clean_test_2_accuracy)\n",
        "\n",
        "G_bd_test_2_label_p = G_model_X_2.predict(x_test_poisoned_data)\n",
        "G_asr_2 = np.mean(np.equal(bd_test_2_label_p, y_test_poisnoed_data))*100\n",
        "print('Combined 2% drops model, Attack Success Rate:', G_asr_2)\n",
        "\n",
        "G_cl_test_4_label_p = G_model_X_4.predict(x_test_data)\n",
        "G_clean_test_4_accuracy = np.mean(np.equal(cl_test_4_label_p, y_test_data))*100\n",
        "print('Combined 4% drops model, the clean test data Classification accuracy:', G_clean_test_4_accuracy)\n",
        "\n",
        "G_bd_test_4_label_p = G_model_X_4.predict(x_test_poisoned_data)\n",
        "G_asr_4 = np.mean(np.equal(bd_test_4_label_p, y_test_poisnoed_data))*100\n",
        "print('Combined 4% drops model, Attack Success Rate:', G_asr_4)\n",
        "\n",
        "G_cl_test_10_label_p = G_model_X_10.predict(x_test_data)\n",
        "G_clean_test_10_accuracy = np.mean(np.equal(cl_test_10_label_p, y_test_data))*100\n",
        "print('Combined 10% drops model, the clean test data Classification accuracy:', G_clean_test_10_accuracy)\n",
        "\n",
        "G_bd_test_10_label_p = G_model_X_10.predict(x_test_poisoned_data)\n",
        "G_asr_10 = np.mean(np.equal(bd_test_10_label_p, y_test_poisnoed_data))*100\n",
        "print('Combined 10% drops model, Attack Success Rate:', G_asr_10)\n"
      ],
      "metadata": {
        "colab": {
          "base_uri": "https://localhost:8080/"
        },
        "id": "j4TZ3KO11q5h",
        "outputId": "6e708d9b-682e-4a67-8f3e-b790177ce15a"
      },
      "execution_count": 37,
      "outputs": [
        {
          "output_type": "stream",
          "name": "stdout",
          "text": [
            "Combined 2% drops model, the clean test data Classification accuracy: 42.361652377240844\n",
            "Combined 2% drops model, Attack Success Rate: 99.92985190958692\n",
            "Combined 4% drops model, the clean test data Classification accuracy: 42.361652377240844\n",
            "Combined 4% drops model, Attack Success Rate: 99.92985190958692\n",
            "Combined 10% drops model, the clean test data Classification accuracy: 42.361652377240844\n",
            "Combined 10% drops model, Attack Success Rate: 99.92985190958692\n"
          ]
        }
      ]
    },
    {
      "cell_type": "code",
      "source": [
        "G_test_acc = [G_clean_test_2_accuracy, G_clean_test_4_accuracy, G_clean_test_10_accuracy]\n",
        "G_attack_rate = [G_asr_2, G_asr_4, G_asr_10]\n",
        "G_data = {\n",
        "    \"G_text_acc\": G_test_acc,\n",
        "    \"G_attack_rate\": G_attack_rate,\n",
        "    \"G_model\": [\"G_2%\", \"G_4%\", \"G_10%\"]\n",
        "}\n",
        "G_df = pd.DataFrame(G_data)\n",
        "G_df.set_index('G_model')\n",
        ""
      ],
      "metadata": {
        "colab": {
          "base_uri": "https://localhost:8080/",
          "height": 175
        },
        "id": "lcqd0kal10Wv",
        "outputId": "9e8735cb-006b-4257-b155-2452fdb4f611"
      },
      "execution_count": 39,
      "outputs": [
        {
          "output_type": "execute_result",
          "data": {
            "text/plain": [
              "         G_text_acc  G_attack_rate\n",
              "G_model                           \n",
              "G_2%      42.361652      99.929852\n",
              "G_4%      42.361652      99.929852\n",
              "G_10%     42.361652      99.929852"
            ],
            "text/html": [
              "\n",
              "  <div id=\"df-712b315a-818a-4726-bba1-406a994914c7\" class=\"colab-df-container\">\n",
              "    <div>\n",
              "<style scoped>\n",
              "    .dataframe tbody tr th:only-of-type {\n",
              "        vertical-align: middle;\n",
              "    }\n",
              "\n",
              "    .dataframe tbody tr th {\n",
              "        vertical-align: top;\n",
              "    }\n",
              "\n",
              "    .dataframe thead th {\n",
              "        text-align: right;\n",
              "    }\n",
              "</style>\n",
              "<table border=\"1\" class=\"dataframe\">\n",
              "  <thead>\n",
              "    <tr style=\"text-align: right;\">\n",
              "      <th></th>\n",
              "      <th>G_text_acc</th>\n",
              "      <th>G_attack_rate</th>\n",
              "    </tr>\n",
              "    <tr>\n",
              "      <th>G_model</th>\n",
              "      <th></th>\n",
              "      <th></th>\n",
              "    </tr>\n",
              "  </thead>\n",
              "  <tbody>\n",
              "    <tr>\n",
              "      <th>G_2%</th>\n",
              "      <td>42.361652</td>\n",
              "      <td>99.929852</td>\n",
              "    </tr>\n",
              "    <tr>\n",
              "      <th>G_4%</th>\n",
              "      <td>42.361652</td>\n",
              "      <td>99.929852</td>\n",
              "    </tr>\n",
              "    <tr>\n",
              "      <th>G_10%</th>\n",
              "      <td>42.361652</td>\n",
              "      <td>99.929852</td>\n",
              "    </tr>\n",
              "  </tbody>\n",
              "</table>\n",
              "</div>\n",
              "    <div class=\"colab-df-buttons\">\n",
              "\n",
              "  <div class=\"colab-df-container\">\n",
              "    <button class=\"colab-df-convert\" onclick=\"convertToInteractive('df-712b315a-818a-4726-bba1-406a994914c7')\"\n",
              "            title=\"Convert this dataframe to an interactive table.\"\n",
              "            style=\"display:none;\">\n",
              "\n",
              "  <svg xmlns=\"http://www.w3.org/2000/svg\" height=\"24px\" viewBox=\"0 -960 960 960\">\n",
              "    <path d=\"M120-120v-720h720v720H120Zm60-500h600v-160H180v160Zm220 220h160v-160H400v160Zm0 220h160v-160H400v160ZM180-400h160v-160H180v160Zm440 0h160v-160H620v160ZM180-180h160v-160H180v160Zm440 0h160v-160H620v160Z\"/>\n",
              "  </svg>\n",
              "    </button>\n",
              "\n",
              "  <style>\n",
              "    .colab-df-container {\n",
              "      display:flex;\n",
              "      gap: 12px;\n",
              "    }\n",
              "\n",
              "    .colab-df-convert {\n",
              "      background-color: #E8F0FE;\n",
              "      border: none;\n",
              "      border-radius: 50%;\n",
              "      cursor: pointer;\n",
              "      display: none;\n",
              "      fill: #1967D2;\n",
              "      height: 32px;\n",
              "      padding: 0 0 0 0;\n",
              "      width: 32px;\n",
              "    }\n",
              "\n",
              "    .colab-df-convert:hover {\n",
              "      background-color: #E2EBFA;\n",
              "      box-shadow: 0px 1px 2px rgba(60, 64, 67, 0.3), 0px 1px 3px 1px rgba(60, 64, 67, 0.15);\n",
              "      fill: #174EA6;\n",
              "    }\n",
              "\n",
              "    .colab-df-buttons div {\n",
              "      margin-bottom: 4px;\n",
              "    }\n",
              "\n",
              "    [theme=dark] .colab-df-convert {\n",
              "      background-color: #3B4455;\n",
              "      fill: #D2E3FC;\n",
              "    }\n",
              "\n",
              "    [theme=dark] .colab-df-convert:hover {\n",
              "      background-color: #434B5C;\n",
              "      box-shadow: 0px 1px 3px 1px rgba(0, 0, 0, 0.15);\n",
              "      filter: drop-shadow(0px 1px 2px rgba(0, 0, 0, 0.3));\n",
              "      fill: #FFFFFF;\n",
              "    }\n",
              "  </style>\n",
              "\n",
              "    <script>\n",
              "      const buttonEl =\n",
              "        document.querySelector('#df-712b315a-818a-4726-bba1-406a994914c7 button.colab-df-convert');\n",
              "      buttonEl.style.display =\n",
              "        google.colab.kernel.accessAllowed ? 'block' : 'none';\n",
              "\n",
              "      async function convertToInteractive(key) {\n",
              "        const element = document.querySelector('#df-712b315a-818a-4726-bba1-406a994914c7');\n",
              "        const dataTable =\n",
              "          await google.colab.kernel.invokeFunction('convertToInteractive',\n",
              "                                                    [key], {});\n",
              "        if (!dataTable) return;\n",
              "\n",
              "        const docLinkHtml = 'Like what you see? Visit the ' +\n",
              "          '<a target=\"_blank\" href=https://colab.research.google.com/notebooks/data_table.ipynb>data table notebook</a>'\n",
              "          + ' to learn more about interactive tables.';\n",
              "        element.innerHTML = '';\n",
              "        dataTable['output_type'] = 'display_data';\n",
              "        await google.colab.output.renderOutput(dataTable, element);\n",
              "        const docLink = document.createElement('div');\n",
              "        docLink.innerHTML = docLinkHtml;\n",
              "        element.appendChild(docLink);\n",
              "      }\n",
              "    </script>\n",
              "  </div>\n",
              "\n",
              "\n",
              "<div id=\"df-74104517-a3d5-48bb-9923-2f87010afb55\">\n",
              "  <button class=\"colab-df-quickchart\" onclick=\"quickchart('df-74104517-a3d5-48bb-9923-2f87010afb55')\"\n",
              "            title=\"Suggest charts\"\n",
              "            style=\"display:none;\">\n",
              "\n",
              "<svg xmlns=\"http://www.w3.org/2000/svg\" height=\"24px\"viewBox=\"0 0 24 24\"\n",
              "     width=\"24px\">\n",
              "    <g>\n",
              "        <path d=\"M19 3H5c-1.1 0-2 .9-2 2v14c0 1.1.9 2 2 2h14c1.1 0 2-.9 2-2V5c0-1.1-.9-2-2-2zM9 17H7v-7h2v7zm4 0h-2V7h2v10zm4 0h-2v-4h2v4z\"/>\n",
              "    </g>\n",
              "</svg>\n",
              "  </button>\n",
              "\n",
              "<style>\n",
              "  .colab-df-quickchart {\n",
              "      --bg-color: #E8F0FE;\n",
              "      --fill-color: #1967D2;\n",
              "      --hover-bg-color: #E2EBFA;\n",
              "      --hover-fill-color: #174EA6;\n",
              "      --disabled-fill-color: #AAA;\n",
              "      --disabled-bg-color: #DDD;\n",
              "  }\n",
              "\n",
              "  [theme=dark] .colab-df-quickchart {\n",
              "      --bg-color: #3B4455;\n",
              "      --fill-color: #D2E3FC;\n",
              "      --hover-bg-color: #434B5C;\n",
              "      --hover-fill-color: #FFFFFF;\n",
              "      --disabled-bg-color: #3B4455;\n",
              "      --disabled-fill-color: #666;\n",
              "  }\n",
              "\n",
              "  .colab-df-quickchart {\n",
              "    background-color: var(--bg-color);\n",
              "    border: none;\n",
              "    border-radius: 50%;\n",
              "    cursor: pointer;\n",
              "    display: none;\n",
              "    fill: var(--fill-color);\n",
              "    height: 32px;\n",
              "    padding: 0;\n",
              "    width: 32px;\n",
              "  }\n",
              "\n",
              "  .colab-df-quickchart:hover {\n",
              "    background-color: var(--hover-bg-color);\n",
              "    box-shadow: 0 1px 2px rgba(60, 64, 67, 0.3), 0 1px 3px 1px rgba(60, 64, 67, 0.15);\n",
              "    fill: var(--button-hover-fill-color);\n",
              "  }\n",
              "\n",
              "  .colab-df-quickchart-complete:disabled,\n",
              "  .colab-df-quickchart-complete:disabled:hover {\n",
              "    background-color: var(--disabled-bg-color);\n",
              "    fill: var(--disabled-fill-color);\n",
              "    box-shadow: none;\n",
              "  }\n",
              "\n",
              "  .colab-df-spinner {\n",
              "    border: 2px solid var(--fill-color);\n",
              "    border-color: transparent;\n",
              "    border-bottom-color: var(--fill-color);\n",
              "    animation:\n",
              "      spin 1s steps(1) infinite;\n",
              "  }\n",
              "\n",
              "  @keyframes spin {\n",
              "    0% {\n",
              "      border-color: transparent;\n",
              "      border-bottom-color: var(--fill-color);\n",
              "      border-left-color: var(--fill-color);\n",
              "    }\n",
              "    20% {\n",
              "      border-color: transparent;\n",
              "      border-left-color: var(--fill-color);\n",
              "      border-top-color: var(--fill-color);\n",
              "    }\n",
              "    30% {\n",
              "      border-color: transparent;\n",
              "      border-left-color: var(--fill-color);\n",
              "      border-top-color: var(--fill-color);\n",
              "      border-right-color: var(--fill-color);\n",
              "    }\n",
              "    40% {\n",
              "      border-color: transparent;\n",
              "      border-right-color: var(--fill-color);\n",
              "      border-top-color: var(--fill-color);\n",
              "    }\n",
              "    60% {\n",
              "      border-color: transparent;\n",
              "      border-right-color: var(--fill-color);\n",
              "    }\n",
              "    80% {\n",
              "      border-color: transparent;\n",
              "      border-right-color: var(--fill-color);\n",
              "      border-bottom-color: var(--fill-color);\n",
              "    }\n",
              "    90% {\n",
              "      border-color: transparent;\n",
              "      border-bottom-color: var(--fill-color);\n",
              "    }\n",
              "  }\n",
              "</style>\n",
              "\n",
              "  <script>\n",
              "    async function quickchart(key) {\n",
              "      const quickchartButtonEl =\n",
              "        document.querySelector('#' + key + ' button');\n",
              "      quickchartButtonEl.disabled = true;  // To prevent multiple clicks.\n",
              "      quickchartButtonEl.classList.add('colab-df-spinner');\n",
              "      try {\n",
              "        const charts = await google.colab.kernel.invokeFunction(\n",
              "            'suggestCharts', [key], {});\n",
              "      } catch (error) {\n",
              "        console.error('Error during call to suggestCharts:', error);\n",
              "      }\n",
              "      quickchartButtonEl.classList.remove('colab-df-spinner');\n",
              "      quickchartButtonEl.classList.add('colab-df-quickchart-complete');\n",
              "    }\n",
              "    (() => {\n",
              "      let quickchartButtonEl =\n",
              "        document.querySelector('#df-74104517-a3d5-48bb-9923-2f87010afb55 button');\n",
              "      quickchartButtonEl.style.display =\n",
              "        google.colab.kernel.accessAllowed ? 'block' : 'none';\n",
              "    })();\n",
              "  </script>\n",
              "</div>\n",
              "\n",
              "    </div>\n",
              "  </div>\n"
            ]
          },
          "metadata": {},
          "execution_count": 39
        }
      ]
    },
    {
      "cell_type": "code",
      "source": [
        "opacity = 0.4\n",
        "bar_width = 0.35\n",
        "\n",
        "plt.xlabel('combined % drops model')\n",
        "plt.ylabel('Rate')\n",
        "\n",
        "plt.xticks(range(len(G_test_acc)),('2%', '4%', '10%'))\n",
        "bar1 = plt.bar(np.arange(len(G_test_acc)) + bar_width, G_test_acc, bar_width, align='center', alpha=opacity, color='b', label='accuracy')\n",
        "bar2 = plt.bar(range(len(G_attack_rate)),G_attack_rate, bar_width, align='center', alpha=opacity, color='r', label='attack rate')\n",
        "\n",
        "for rect in bar1 + bar2:\n",
        "    height = rect.get_height()\n",
        "    plt.text(rect.get_x() + rect.get_width() / 2.0, height, f'{height:.02f}', ha='center', va='bottom')\n",
        "\n",
        "plt.legend(bbox_to_anchor=(1.4, 1))\n",
        "plt.tight_layout()\n",
        "plt.title('performance of goodNet model')\n",
        "sns.despine()\n",
        "plt.show()"
      ],
      "metadata": {
        "colab": {
          "base_uri": "https://localhost:8080/",
          "height": 509
        },
        "id": "UxYgwIqG11dd",
        "outputId": "38965bfc-c859-46e6-cc30-50645477ad87"
      },
      "execution_count": 40,
      "outputs": [
        {
          "output_type": "display_data",
          "data": {
            "text/plain": [
              "<Figure size 640x480 with 1 Axes>"
            ],
            "image/png": "[encoded data removed]"
          },
          "metadata": {}
        }
      ]
    },
    {
      "cell_type": "code",
      "source": [],
      "metadata": {
        "id": "BybDrLPA15de"
      },
      "execution_count": null,
      "outputs": []
    }
  ]
}